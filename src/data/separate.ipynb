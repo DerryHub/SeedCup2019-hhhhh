{
 "cells": [
  {
   "cell_type": "code",
   "execution_count": 1,
   "metadata": {},
   "outputs": [],
   "source": [
    "import pandas as pd\n",
    "from tqdm import tqdm\n",
    "import numpy as np\n",
    "import datetime"
   ]
  },
  {
   "cell_type": "code",
   "execution_count": 2,
   "metadata": {},
   "outputs": [],
   "source": [
    "df_train = pd.read_csv('SeedCup_final_train.csv', sep='\\t')\n",
    "df_test = pd.read_csv('SeedCup_final_test.csv', sep='\\t')"
   ]
  },
  {
   "cell_type": "code",
   "execution_count": 3,
   "metadata": {},
   "outputs": [],
   "source": [
    "d_train = df_train.to_dict(orient='list')\n",
    "d_test = df_test.to_dict(orient='list')"
   ]
  },
  {
   "cell_type": "code",
   "execution_count": 4,
   "metadata": {},
   "outputs": [
    {
     "name": "stderr",
     "output_type": "stream",
     "text": [
      "100%|██████████| 3597728/3597728 [05:51<00:00, 10224.14it/s]\n"
     ]
    }
   ],
   "source": [
    "d = d_train\n",
    "def s2h(s1, s2):\n",
    "    d1 = datetime.datetime.strptime(s1, '%Y-%m-%d %H:%M:%S')\n",
    "    d2 = datetime.datetime.strptime(s2, '%Y-%m-%d %H:%M:%S')\n",
    "    d1_ = d1.replace(minute=0)\n",
    "    d1_ = d1_.replace(second=0)\n",
    "    d1_ = d1_.replace(hour=0)\n",
    "    d2_ = d2.replace(minute=0)\n",
    "    d2_ = d2_.replace(second=0)\n",
    "    d2_ = d2_.replace(hour=0)\n",
    "    d = d1_-d2_\n",
    "    \n",
    "    return d.days, d1.hour, d2.hour\n",
    "    \n",
    "    \n",
    "out_d = {}\n",
    "out_d['plat_form'] = []\n",
    "out_d['biz_type'] = []\n",
    "out_d['product_id'] = []\n",
    "out_d['cate1_id'] = []\n",
    "out_d['cate2_id'] = []\n",
    "out_d['cate3_id'] = []\n",
    "out_d['seller_uid'] = []\n",
    "out_d['company_name'] = []\n",
    "out_d['rvcr_prov_name'] = []\n",
    "out_d['rvcr_city_name'] = []\n",
    "out_d['payed_hour'] = []\n",
    "out_d['delta_days'] = []\n",
    "out_d['hour'] = []\n",
    "out_d['pre_days'] = []\n",
    "out_d['signed_time'] = []\n",
    "out_d['payed_time'] = []\n",
    "for i in tqdm(range(len(d['uid']))):\n",
    "    try:\n",
    "        days_s, hour_s, _ = s2h(d['shipped_time'][i], d['payed_time'][i])\n",
    "        days_g, hour_g, _ = s2h(d['got_time'][i], d['payed_time'][i])\n",
    "        days_d, hour_d, _ = s2h(d['dlved_time'][i], d['payed_time'][i])\n",
    "        days, hour, payed_hour = s2h(d['signed_time'][i], d['payed_time'][i])\n",
    "        pre = d['preselling_shipped_time'][i]\n",
    "        if days < 0 or days_s < 0 or days_g < 0 or days_d < 0:\n",
    "            continue\n",
    "        if hour < 0 or hour > 24:\n",
    "            continue\n",
    "            \n",
    "    except:\n",
    "        continue\n",
    "    out_d['plat_form'].append(d['plat_form'][i])\n",
    "    out_d['biz_type'].append(d['biz_type'][i])\n",
    "    out_d['product_id'].append(d['product_id'][i])\n",
    "    out_d['cate1_id'].append(d['cate1_id'][i])\n",
    "    out_d['cate2_id'].append(d['cate2_id'][i])\n",
    "    out_d['cate3_id'].append(d['cate3_id'][i])\n",
    "    out_d['seller_uid'].append(d['seller_uid'][i])\n",
    "    out_d['company_name'].append(d['company_name'][i])\n",
    "    out_d['rvcr_prov_name'].append(d['rvcr_prov_name'][i])\n",
    "    out_d['rvcr_city_name'].append(d['rvcr_city_name'][i])\n",
    "    out_d['payed_hour'].append(payed_hour)\n",
    "    out_d['delta_days'].append(days)\n",
    "    out_d['hour'].append(hour)\n",
    "    out_d['signed_time'].append(d['signed_time'][i])\n",
    "    out_d['payed_time'].append(d['payed_time'][i])\n",
    "    if pre is not np.nan and pre > d['payed_time'][i] and pre < d['signed_time'][i]:\n",
    "        d1 = datetime.datetime.strptime(d['preselling_shipped_time'][i], '%Y-%m-%d %H:%M:%S')\n",
    "        d2 = datetime.datetime.strptime(d['payed_time'][i], '%Y-%m-%d %H:%M:%S')\n",
    "        dd = d1-d2\n",
    "        out_d['pre_days'].append(min([6, dd.days]))\n",
    "    else:\n",
    "        out_d['pre_days'].append(0)"
   ]
  },
  {
   "cell_type": "code",
   "execution_count": 5,
   "metadata": {},
   "outputs": [
    {
     "name": "stderr",
     "output_type": "stream",
     "text": [
      "100%|██████████| 3596748/3596748 [00:13<00:00, 262180.60it/s]\n"
     ]
    }
   ],
   "source": [
    "keys = out_d.keys()\n",
    "d_train_1_5 = {}\n",
    "d_train_6_10 = {}\n",
    "d_train_11_15 = {}\n",
    "d_train_16_20 = {}\n",
    "d_train_21_25 = {}\n",
    "d_train_26_30 = {}\n",
    "for k in keys:\n",
    "    d_train_1_5[k] = []\n",
    "    d_train_6_10[k] = []\n",
    "    d_train_11_15[k] = []\n",
    "    d_train_16_20[k] = []\n",
    "    d_train_21_25[k] = []\n",
    "    d_train_26_30[k] = []\n",
    "for i in tqdm(range(len(out_d['plat_form']))):\n",
    "    if out_d['payed_time'][i].split()[0] <= '2019-04-05':\n",
    "        for k in keys:\n",
    "            d_train_1_5[k].append(out_d[k][i])\n",
    "    elif out_d['payed_time'][i].split()[0] <= '2019-04-10':\n",
    "        for k in keys:\n",
    "            d_train_6_10[k].append(out_d[k][i])\n",
    "    elif out_d['payed_time'][i].split()[0] <= '2019-04-15':\n",
    "        for k in keys:\n",
    "            d_train_11_15[k].append(out_d[k][i])\n",
    "    elif out_d['payed_time'][i].split()[0] <= '2019-04-20':\n",
    "        for k in keys:\n",
    "            d_train_16_20[k].append(out_d[k][i])\n",
    "    elif out_d['payed_time'][i].split()[0] <= '2019-04-25':\n",
    "        for k in keys:\n",
    "            d_train_21_25[k].append(out_d[k][i])\n",
    "    else:\n",
    "        for k in keys:\n",
    "            d_train_26_30[k].append(out_d[k][i])"
   ]
  },
  {
   "cell_type": "code",
   "execution_count": 6,
   "metadata": {},
   "outputs": [],
   "source": [
    "df = pd.DataFrame(d_train_1_5)\n",
    "df.to_csv('train_1-5.csv', index=False)\n",
    "df = pd.DataFrame(d_train_6_10)\n",
    "df.to_csv('train_6-10.csv', index=False)\n",
    "df = pd.DataFrame(d_train_11_15)\n",
    "df.to_csv('train_11-15.csv', index=False)\n",
    "df = pd.DataFrame(d_train_16_20)\n",
    "df.to_csv('train_16-20.csv', index=False)\n",
    "df = pd.DataFrame(d_train_21_25)\n",
    "df.to_csv('train_21-25.csv', index=False)\n",
    "df = pd.DataFrame(d_train_26_30)\n",
    "df.to_csv('train_26-30.csv', index=False)"
   ]
  },
  {
   "cell_type": "code",
   "execution_count": 7,
   "metadata": {},
   "outputs": [
    {
     "name": "stderr",
     "output_type": "stream",
     "text": [
      "100%|██████████| 300000/300000 [00:01<00:00, 236700.56it/s]\n"
     ]
    }
   ],
   "source": [
    "d = d_test\n",
    "def s2h(s1, s2):\n",
    "    d1 = datetime.datetime.strptime(s1, '%Y-%m-%d %H:%M:%S')\n",
    "    d2 = datetime.datetime.strptime(s2, '%Y-%m-%d %H:%M:%S')\n",
    "    d1_ = d1.replace(minute=0)\n",
    "    d1_ = d1_.replace(second=0)\n",
    "    d1_ = d1_.replace(hour=0)\n",
    "    d2_ = d2.replace(minute=0)\n",
    "    d2_ = d2_.replace(second=0)\n",
    "    d2_ = d2_.replace(hour=0)\n",
    "    d = d1_-d2_\n",
    "    \n",
    "    return d.days, d1.hour, d2.hour\n",
    "    \n",
    "    \n",
    "out_d = {}\n",
    "out_d['index'] = []\n",
    "out_d['plat_form'] = []\n",
    "out_d['biz_type'] = []\n",
    "out_d['product_id'] = []\n",
    "out_d['cate1_id'] = []\n",
    "out_d['cate2_id'] = []\n",
    "out_d['cate3_id'] = []\n",
    "out_d['seller_uid'] = []\n",
    "out_d['company_name'] = []\n",
    "out_d['rvcr_prov_name'] = []\n",
    "out_d['rvcr_city_name'] = []\n",
    "out_d['pre_days'] = []\n",
    "out_d['payed_hour'] = []\n",
    "out_d['payed_time'] = []\n",
    "for i in tqdm(range(len(d['uid']))):\n",
    "    pre = d['preselling_shipped_time'][i]\n",
    "    out_d['index'].append(i)\n",
    "    out_d['plat_form'].append(d['plat_form'][i])\n",
    "    out_d['biz_type'].append(d['biz_type'][i])\n",
    "    out_d['product_id'].append(d['product_id'][i])\n",
    "    out_d['cate1_id'].append(d['cate1_id'][i])\n",
    "    out_d['cate2_id'].append(d['cate2_id'][i])\n",
    "    out_d['cate3_id'].append(d['cate3_id'][i])\n",
    "    out_d['seller_uid'].append(d['seller_uid'][i])\n",
    "    out_d['company_name'].append(d['company_name'][i])\n",
    "    out_d['rvcr_prov_name'].append(d['rvcr_prov_name'][i])\n",
    "    out_d['rvcr_city_name'].append(d['rvcr_city_name'][i])\n",
    "    out_d['payed_hour'].append(payed_hour)\n",
    "    out_d['payed_time'].append(d['payed_time'][i])\n",
    "    if pre is not np.nan and pre > d['payed_time'][i]:\n",
    "        d1 = datetime.datetime.strptime(d['preselling_shipped_time'][i], '%Y-%m-%d %H:%M:%S')\n",
    "        d2 = datetime.datetime.strptime(d['payed_time'][i], '%Y-%m-%d %H:%M:%S')\n",
    "        dd = d1-d2\n",
    "        out_d['pre_days'].append(min([6, dd.days]))\n",
    "    else:\n",
    "        out_d['pre_days'].append(0)"
   ]
  },
  {
   "cell_type": "code",
   "execution_count": 8,
   "metadata": {},
   "outputs": [
    {
     "name": "stderr",
     "output_type": "stream",
     "text": [
      "100%|██████████| 300000/300000 [00:01<00:00, 288314.22it/s]\n"
     ]
    }
   ],
   "source": [
    "keys = out_d.keys()\n",
    "d_test_1_5 = {}\n",
    "d_test_6_10 = {}\n",
    "d_test_11_15 = {}\n",
    "d_test_16_20 = {}\n",
    "d_test_21_25 = {}\n",
    "d_test_26_30 = {}\n",
    "for k in keys:\n",
    "    d_test_1_5[k] = []\n",
    "    d_test_6_10[k] = []\n",
    "    d_test_11_15[k] = []\n",
    "    d_test_16_20[k] = []\n",
    "    d_test_21_25[k] = []\n",
    "    d_test_26_30[k] = []\n",
    "for i in tqdm(range(len(out_d['plat_form']))):\n",
    "    if out_d['payed_time'][i].split()[0] <= '2019-05-05':\n",
    "        for k in keys:\n",
    "            d_test_1_5[k].append(out_d[k][i])\n",
    "    elif out_d['payed_time'][i].split()[0] <= '2019-05-10':\n",
    "        for k in keys:\n",
    "            d_test_6_10[k].append(out_d[k][i])\n",
    "    elif out_d['payed_time'][i].split()[0] <= '2019-05-15':\n",
    "        for k in keys:\n",
    "            d_test_11_15[k].append(out_d[k][i])\n",
    "    elif out_d['payed_time'][i].split()[0] <= '2019-05-20':\n",
    "        for k in keys:\n",
    "            d_test_16_20[k].append(out_d[k][i])\n",
    "    elif out_d['payed_time'][i].split()[0] <= '2019-05-25':\n",
    "        for k in keys:\n",
    "            d_test_21_25[k].append(out_d[k][i])\n",
    "    else:\n",
    "        for k in keys:\n",
    "            d_test_26_30[k].append(out_d[k][i])"
   ]
  },
  {
   "cell_type": "code",
   "execution_count": 9,
   "metadata": {},
   "outputs": [],
   "source": [
    "df = pd.DataFrame(d_test_1_5)\n",
    "df.to_csv('test_1-5.csv', index=False)\n",
    "df = pd.DataFrame(d_test_6_10)\n",
    "df.to_csv('test_6-10.csv', index=False)\n",
    "df = pd.DataFrame(d_test_11_15)\n",
    "df.to_csv('test_11-15.csv', index=False)\n",
    "df = pd.DataFrame(d_test_16_20)\n",
    "df.to_csv('test_16-20.csv', index=False)\n",
    "df = pd.DataFrame(d_test_21_25)\n",
    "df.to_csv('test_21-25.csv', index=False)\n",
    "df = pd.DataFrame(d_test_26_30)\n",
    "df.to_csv('test_26-30.csv', index=False)"
   ]
  },
  {
   "cell_type": "code",
   "execution_count": null,
   "metadata": {},
   "outputs": [],
   "source": []
  }
 ],
 "metadata": {
  "kernelspec": {
   "display_name": "Python 3",
   "language": "python",
   "name": "python3"
  },
  "language_info": {
   "codemirror_mode": {
    "name": "ipython",
    "version": 3
   },
   "file_extension": ".py",
   "mimetype": "text/x-python",
   "name": "python",
   "nbconvert_exporter": "python",
   "pygments_lexer": "ipython3",
   "version": "3.7.1"
  }
 },
 "nbformat": 4,
 "nbformat_minor": 2
}
